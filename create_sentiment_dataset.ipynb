{
 "cells": [
  {
   "cell_type": "code",
   "execution_count": 37,
   "metadata": {
    "collapsed": false
   },
   "outputs": [],
   "source": [
    "from sklearn.externals import joblib\n",
    "logistic_model = joblib.load('logistic_model.pkl') "
   ]
  },
  {
   "cell_type": "code",
   "execution_count": 38,
   "metadata": {
    "collapsed": true
   },
   "outputs": [],
   "source": [
    "vectorizer = joblib.load('vectorizer.pkl')"
   ]
  },
  {
   "cell_type": "code",
   "execution_count": 30,
   "metadata": {
    "collapsed": false
   },
   "outputs": [],
   "source": [
    "import numpy as np\n",
    "import pandas as pd\n",
    "import config\n",
    "import re\n",
    "from nltk.corpus import stopwords\n",
    "from ast import literal_eval\n",
    "from sklearn import linear_model"
   ]
  },
  {
   "cell_type": "code",
   "execution_count": 31,
   "metadata": {
    "collapsed": true
   },
   "outputs": [],
   "source": [
    "english_file = \"{}/data/twitter/tweets/trivadis/2016-11_english.csv\".format(config.dir_prefix)"
   ]
  },
  {
   "cell_type": "code",
   "execution_count": 32,
   "metadata": {
    "collapsed": false
   },
   "outputs": [
    {
     "data": {
      "text/plain": [
       "'trivadis/data/twitter/tweets/trivadis/2016-11/english.csv'"
      ]
     },
     "execution_count": 32,
     "metadata": {},
     "output_type": "execute_result"
    }
   ],
   "source": [
    "input_en"
   ]
  },
  {
   "cell_type": "code",
   "execution_count": 33,
   "metadata": {
    "collapsed": false
   },
   "outputs": [],
   "source": [
    "tweets_english = pd.read_csv(english_file, encoding='utf-8', \n",
    "                              usecols = ['id_str', 'user_id', 'created_at', 'lang', 'text', 'favorite_count', 'entities',\n",
    "                                         'in_reply_to_screen_name', 'in_reply_to_status_id_str', 'in_reply_to_user_id',\n",
    "                                         'retweet_count', 'quoted_status_id_str', 'text_tokenized', 'text_processed'],\n",
    "                              converters={\"text_tokenized\": literal_eval, \"text_processed\": literal_eval})\n",
    "\n",
    "def remove_hash(wordlist):\n",
    "    return(list(map(lambda x: re.sub(r'^#','',x), wordlist)))\n",
    "\n",
    "def remove_at(wordlist):\n",
    "    return(list(map(lambda x: re.sub(r'^@','',x), wordlist)))\n",
    "    \n",
    "tweets_english['text_wo_#'] = tweets_english['text_processed'].apply(lambda x: remove_hash(x))\n",
    "tweets_english['text_wo_#@'] = tweets_english['text_wo_#'].apply(lambda x: remove_at(x))\n",
    "\n",
    "X_train_en = tweets_english['text_wo_#'].apply(lambda x: ' '.join(x))\n",
    "\n",
    "stopwords_nltk = set(stopwords.words(\"english\"))\n",
    "#relevant_words = set(['not', 'nor', 'no', 'wasn', 'ain', 'aren', 'very', 'only', 'but', 'don', 'isn', 'weren'])\n",
    "relevant_words = set()\n",
    "additional_stopwords = set(['us'])\n",
    "stopwords_filtered = list(additional_stopwords.union(stopwords_nltk.difference(relevant_words)))"
   ]
  },
  {
   "cell_type": "code",
   "execution_count": 42,
   "metadata": {
    "collapsed": false
   },
   "outputs": [
    {
     "data": {
      "text/plain": [
       "<2352x10000 sparse matrix of type '<class 'numpy.int64'>'\n",
       "\twith 40557 stored elements in Compressed Sparse Row format>"
      ]
     },
     "execution_count": 42,
     "metadata": {},
     "output_type": "execute_result"
    }
   ],
   "source": [
    "words_matrix = vectorizer.transform(X_train_en)\n",
    "words_matrix"
   ]
  },
  {
   "cell_type": "code",
   "execution_count": 45,
   "metadata": {
    "collapsed": false
   },
   "outputs": [],
   "source": [
    "y_pred = logistic_model.predict(words_matrix)"
   ]
  },
  {
   "cell_type": "code",
   "execution_count": 46,
   "metadata": {
    "collapsed": true
   },
   "outputs": [],
   "source": [
    "X_train_en['sentiment'] = y_pred"
   ]
  },
  {
   "cell_type": "code",
   "execution_count": 47,
   "metadata": {
    "collapsed": false
   },
   "outputs": [
    {
     "data": {
      "text/plain": [
       "0            @AlphaHelixSMC It appears that Apple is still ...\n",
       "1            @AlphaHelixSMC It appears that Apple is still ...\n",
       "2            @dsgersten Learn more about @vfiorg and @CSECo...\n",
       "3            Windows 10 deployment tools techniques and pro...\n",
       "4            Vcpkg updates Static linking is now available ...\n",
       "5            @IAMCPorg Make sure to sign up for the webinar...\n",
       "6            @JustinSlagle So many of my Microsoft partners...\n",
       "7            @SMBInsiderJoe US SMB Marketing Events Lead @D...\n",
       "8            @jon_rivers Microsoft launches Teams to take o...\n",
       "9            @IAMCPTPA Join the IAMCP Tampa Chapter Meeting...\n",
       "10           @dsgersten Learn more about @vfiorg and @CSECo...\n",
       "11           @IAMCPorg Make sure to sign up for the webinar...\n",
       "12           @JustinSlagle So many of my Microsoft partners...\n",
       "13           @SMBInsiderJoe US SMB Marketing Events Lead @D...\n",
       "14           The latest IAMCP Daily Digest https://t.co/Q0O...\n",
       "15           @jon_rivers Microsoft launches Teams to take o...\n",
       "16           @IAMCPTPA Join the IAMCP Tampa Chapter Meeting...\n",
       "17           @AlphaHelixSMC It appears that Apple is still ...\n",
       "18           @AlphaHelixSMC It appears that Apple is still ...\n",
       "19           @connor_mc_d Android updates should just say T...\n",
       "20                        Ricsplaining https://t.co/oNMQBEV849\n",
       "21           Working with JSON Wondering how you can make t...\n",
       "22           One more reason to attend the fantastic annual...\n",
       "23           @tech31842 @JLOracle @MDWidlake The Yew Networ...\n",
       "24           Every time I see tweet with image of paper air...\n",
       "25           @HeyAlfredoDBA @opal_EPM @interRel @oracleace ...\n",
       "26           @SamHetchler @DirkMomont @akuli @peterjeffcock...\n",
       "27           591 plsql PL SQL 101 Why can't I display a Boo...\n",
       "28           @MGralike ORACLE DATABASE 12.2 0.1 Oracle Sear...\n",
       "29                           @oraesque Thanks for the reminder\n",
       "                                   ...                        \n",
       "2323         @UKOUG 3 days 23 streams 121 speakers 164 sess...\n",
       "2324         @MSFTCityNext MSFTCityNext and partners will b...\n",
       "2325         @MSFTCityNext MSFTCityNext and partners will b...\n",
       "2326         @MSFTCityNext MSFTCityNext and partners will b...\n",
       "2327         @MSFTCityNext MSFTCityNext and partners will b...\n",
       "2328         @UKOUG Cloud IoT Mobility Reporting get the fa...\n",
       "2329         @UKOUG Cloud IoT Mobility Reporting get the fa...\n",
       "2330         @rbranger on my way to irmEDBI London looking ...\n",
       "2331         @MagnumBI_ Ensemble modeling and the Data Vaul...\n",
       "2332         @UKOUG 3 days 23 streams 121 speakers 164 sess...\n",
       "2333         @ironpython New logo for IronPython Will be ro...\n",
       "2334         @MSFTCityNext MSFTCityNext and partners will b...\n",
       "2335         @MSFTCityNext MSFTCityNext and partners will b...\n",
       "2336         @MSFTCityNext MSFTCityNext and partners will b...\n",
       "2337         @MSFTCityNext MSFTCityNext and partners will b...\n",
       "2338         @MSFTCityNext MSFTCityNext and partners will b...\n",
       "2339         @UKOUG Join the UK's largest gathering of Orac...\n",
       "2340         @MSFTCityNext MSFTCityNext and partners will b...\n",
       "2341         @UKOUG Join the UK's largest gathering of Orac...\n",
       "2342         @danielkilian Follow @flippareviews and then g...\n",
       "2343         @MSFTCityNext MSFTCityNext and partners will b...\n",
       "2344         @PennySchiffer There is no better guide than a...\n",
       "2345         EMEA VP Andrew Sordam gives his thoughts on AI...\n",
       "2346         Time for the first Keynote gartnersym https://...\n",
       "2347         @MSFTCityNext MSFTCityNext and partners will b...\n",
       "2348         @ThomasTeskeOrcl EMEA VP Andrew Sordam gives h...\n",
       "2349         @MSFTCityNext MSFTCityNext and partners will b...\n",
       "2350         Design Thinking versus Design Doing https://t....\n",
       "2351         Twitter is now offering brands customer servic...\n",
       "sentiment    [0, 0, 0, 0, 1, 1, 0, 0, 1, 1, 0, 1, 0, 0, 0, ...\n",
       "Name: text_wo_#, dtype: object"
      ]
     },
     "execution_count": 47,
     "metadata": {},
     "output_type": "execute_result"
    }
   ],
   "source": [
    "X_train_en"
   ]
  },
  {
   "cell_type": "code",
   "execution_count": null,
   "metadata": {
    "collapsed": true
   },
   "outputs": [],
   "source": []
  }
 ],
 "metadata": {
  "anaconda-cloud": {},
  "kernelspec": {
   "display_name": "Python [conda env:p35]",
   "language": "python",
   "name": "conda-env-p35-py"
  },
  "language_info": {
   "codemirror_mode": {
    "name": "ipython",
    "version": 3
   },
   "file_extension": ".py",
   "mimetype": "text/x-python",
   "name": "python",
   "nbconvert_exporter": "python",
   "pygments_lexer": "ipython3",
   "version": "3.5.2"
  }
 },
 "nbformat": 4,
 "nbformat_minor": 1
}
