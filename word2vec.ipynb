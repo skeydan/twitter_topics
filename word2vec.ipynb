{
 "cells": [
  {
   "cell_type": "markdown",
   "metadata": {},
   "source": [
    "# word2vec"
   ]
  },
  {
   "cell_type": "code",
   "execution_count": 1,
   "metadata": {
    "collapsed": false
   },
   "outputs": [],
   "source": [
    "import pandas as pd \n",
    "import numpy as np\n",
    "import matplotlib.pyplot as plt\n",
    "\n",
    "from gensim.models import word2vec\n",
    "import config\n",
    "from ast import literal_eval\n",
    "import re\n",
    "from nltk.corpus import stopwords\n",
    "pd.set_option('display.max_colwidth', 100)"
   ]
  },
  {
   "cell_type": "code",
   "execution_count": 2,
   "metadata": {
    "collapsed": false
   },
   "outputs": [
    {
     "data": {
      "text/plain": [
       "'/home/key/code/python/twitter_topics/data/twitter/tweets/trivadis/2016-11_english.csv'"
      ]
     },
     "execution_count": 2,
     "metadata": {},
     "output_type": "execute_result"
    }
   ],
   "source": [
    "target = config.target_user\n",
    "target_month = config.target_month\n",
    "source_dir = \"{}/data/twitter/tweets/{}\".format(config.dir_prefix, target)\n",
    "english_file = '/'.join([source_dir, target_month  + '_english.csv'])\n",
    "english_file"
   ]
  },
  {
   "cell_type": "code",
   "execution_count": 3,
   "metadata": {
    "collapsed": false
   },
   "outputs": [
    {
     "data": {
      "text/plain": [
       "0    alphahelixsmc it appears that apple is still considering a foldable iphone would you use it http...\n",
       "1    alphahelixsmc it appears that apple is still considering a foldable iphone would you use it http...\n",
       "2                             dsgersten learn more about vfiorg and csecoalition https://t.co/lehzvz0vzj\n",
       "3    windows 10 deployment tools techniques and processes the must-know concepts for it professionals...\n",
       "4    vcpkg updates static linking is now available one month ago we announced the availability of vcp...\n",
       "5    iamcporg make sure to sign up for the webinar 3 superpowers of p2p the practice the profits and ...\n",
       "6    justinslagle so many of my microsoft partners have been waiting for this microsoftteams has arri...\n",
       "7    smbinsiderjoe us smb marketing events lead davidcu206 on the latest episode of offpremwithterry ...\n",
       "8     jon_rivers microsoft launches teams to take on slack https://t.co/nvfxbtgxge teams microsoft iamcp\n",
       "9    iamcptpa join the iamcp tampa chapter meeting on 11/09 as we will be talking about cyber hygiene...\n",
       "Name: text_wo_#@, dtype: object"
      ]
     },
     "execution_count": 3,
     "metadata": {},
     "output_type": "execute_result"
    }
   ],
   "source": [
    "tweets_english = pd.read_csv(english_file, encoding='utf-8', \n",
    "                              usecols = ['id_str', 'user_id', 'created_at', 'lang', 'text', 'favorite_count', 'entities',\n",
    "                                         'in_reply_to_screen_name', 'in_reply_to_status_id_str', 'in_reply_to_user_id',\n",
    "                                         'retweet_count', 'quoted_status_id_str', 'text_tokenized', 'text_processed'],\n",
    "                              converters={\"text_tokenized\": literal_eval, \"text_processed\": literal_eval})\n",
    "\n",
    "def remove_hash(wordlist):\n",
    "    return(list(map(lambda x: re.sub(r'^#','',x), wordlist)))\n",
    "\n",
    "def remove_at(wordlist):\n",
    "    return(list(map(lambda x: re.sub(r'^@','',x), wordlist)))\n",
    "\n",
    "tweets_english['text_processed'] = tweets_english['text_processed'].apply(lambda x: list(map(lambda s: s.lower(),x)))\n",
    "tweets_english['text_wo_#'] = tweets_english['text_processed'].apply(lambda x: remove_hash(x))\n",
    "tweets_english['text_wo_#@'] = tweets_english['text_wo_#'].apply(lambda x: remove_at(x))\n",
    "\n",
    "X_train_en = tweets_english['text_wo_#@'].apply(lambda x: ' '.join(x))\n",
    "X_train_en[:10]"
   ]
  },
  {
   "cell_type": "markdown",
   "metadata": {},
   "source": [
    "#### Try both with and without stop word removal "
   ]
  },
  {
   "cell_type": "code",
   "execution_count": 4,
   "metadata": {
    "collapsed": false
   },
   "outputs": [],
   "source": [
    "stopwords_nltk = set(stopwords.words(\"english\"))\n",
    "relevant_words = set(['not', 'nor', 'no', 'wasn', 'ain', 'aren', 'very', 'only', 'but', 'don', 'isn', 'weren'])\n",
    "#relevant_words = set()\n",
    "additional_stopwords = set(['us'])\n",
    "stopwords_filtered = list(additional_stopwords.union(stopwords_nltk.difference(relevant_words)))"
   ]
  },
  {
   "cell_type": "code",
   "execution_count": 5,
   "metadata": {
    "collapsed": false
   },
   "outputs": [],
   "source": [
    "sentences = []  \n",
    "for tweet in X_train_en:\n",
    "    words = tweet.split()\n",
    "    sentences += [[word for word in words if word not in stopwords_filtered]]\n",
    "    #sentences += [words]"
   ]
  },
  {
   "cell_type": "code",
   "execution_count": 6,
   "metadata": {
    "collapsed": false
   },
   "outputs": [
    {
     "data": {
      "text/plain": [
       "(8848, 10)"
      ]
     },
     "execution_count": 6,
     "metadata": {},
     "output_type": "execute_result"
    }
   ],
   "source": [
    "len(sentences), len(sentences[0])"
   ]
  },
  {
   "cell_type": "code",
   "execution_count": 7,
   "metadata": {
    "collapsed": true
   },
   "outputs": [],
   "source": [
    "num_features = 100    # Word vector dimensionality                      \n",
    "min_word_count = 1   # Minimum word count                        \n",
    "num_workers = 2       # Number of threads to run in parallel\n",
    "context = 10          # Context window size                                                                                    \n",
    "downsampling = 1e-3   # Downsample setting for frequent words\n",
    "model = word2vec.Word2Vec(sentences, workers=num_workers, size=num_features, min_count = min_word_count,\n",
    "window = context, sample = downsampling)"
   ]
  },
  {
   "cell_type": "code",
   "execution_count": 8,
   "metadata": {
    "collapsed": false
   },
   "outputs": [
    {
     "data": {
      "text/plain": [
       "17481"
      ]
     },
     "execution_count": 8,
     "metadata": {},
     "output_type": "execute_result"
    }
   ],
   "source": [
    "len(model.vocab)"
   ]
  },
  {
   "cell_type": "code",
   "execution_count": 24,
   "metadata": {
    "collapsed": false
   },
   "outputs": [
    {
     "name": "stdout",
     "output_type": "stream",
     "text": [
      "oracle:\n",
      " [('12c', 0.9995741248130798), ('features', 0.999523401260376), ('oracledatabase', 0.9995065927505493), ('db12c', 0.9994137287139893), ('feature', 0.9993319511413574), ('upgrade', 0.9993008375167847), ('release', 0.9992023706436157), ('pdb', 0.9992001056671143), ('cloud', 0.9989839792251587), ('excellent', 0.9987954497337341)]\n",
      "\n",
      "\n",
      "talend:\n",
      " [('5', 0.999801516532898), ('bigdata', 0.9997485876083374), ('iot', 0.9996521472930908), ('hadoop', 0.9996306896209717), ('key', 0.9995836019515991), ('advice', 0.9995220899581909), ('data', 0.9994640946388245), ('free', 0.9994405508041382), ('architecture', 0.9994056820869446), ('datascience', 0.9994000196456909)]\n",
      "\n",
      "\n",
      "microsoft:\n",
      " [('miss', 0.9997556209564209), ('only', 0.9996922016143799), ('experts', 0.9996503591537476), ('know', 0.9996417760848999), ('need', 0.9996071457862854), ('services', 0.9994969367980957), ('connect', 0.9992175102233887), ('city', 0.9991834163665771), ('sessions', 0.9991538524627686), ('follow', 0.9990562200546265)]\n",
      "\n",
      "\n",
      "cloud:\n",
      " [('please', 0.9998130798339844), ('12c', 0.999664306640625), ('list', 0.9995849132537842), ('blog', 0.9995619058609009), ('post', 0.9995445013046265), ('well', 0.9995285272598267), ('pdb', 0.9994568824768066), ('service', 0.9994514584541321), ('new', 0.9993878602981567), ('page', 0.9993718266487122)]\n",
      "\n",
      "\n",
      "bigdata:\n",
      " [('iot', 0.9998440742492676), ('data', 0.9997553825378418), ('talend', 0.9997484683990479), ('building', 0.9997028708457947), ('free', 0.9996749758720398), ('got', 0.9996308088302612), ('aws', 0.9996257424354553), ('using', 0.9996000528335571), ('5', 0.9995619058609009), ('come', 0.9995612502098083)]\n",
      "\n",
      "\n",
      "machinelearning:\n",
      " [('orclapex', 0.9994255304336548), ('analytics', 0.9993982315063477), ('|', 0.9993631839752197), ('go', 0.9993594884872437), ('best', 0.999351978302002), ('read', 0.9993502497673035), ('https://t.co/…', 0.9993324875831604), ('table', 0.9993311762809753), ('november', 0.9993308782577515), ('startup', 0.9993249177932739)]\n",
      "\n",
      "\n",
      "deeplearning:\n",
      " [('little', 0.9970585703849792), ('slides', 0.9970086812973022), ('team', 0.9969937801361084), ('questions', 0.9969896078109741), ('beer', 0.9969820976257324), ('agile', 0.9969778060913086), ('many', 0.9969749450683594), ('use', 0.9969609379768372), ('since', 0.9969261884689331), ('code', 0.9969222545623779)]\n",
      "\n",
      "\n",
      "iot:\n",
      " [('data', 0.9999260306358337), ('free', 0.9998977780342102), ('bigdata', 0.9998440742492676), ('using', 0.9998359680175781), ('come', 0.9997923374176025), ('great', 0.9997901916503906), ('get', 0.9997801184654236), ('help', 0.9997753500938416), ('every', 0.9997683167457581), ('big', 0.9997668862342834)]\n",
      "\n",
      "\n",
      "azure:\n",
      " [('|', 0.9998412132263184), ('meeting', 0.9998078942298889), ('https://t.…', 0.9997536540031433), ('global', 0.9997533559799194), ('https://t.co/…', 0.9997414946556091), (\"i've\", 0.9997349977493286), ('good', 0.9997231960296631), ('life', 0.9997197389602661), ('go', 0.9997156262397766), ('read', 0.9997130036354065)]\n",
      "\n",
      "\n",
      "cassandra:\n",
      " [('https://t.co…', 0.9970832467079163), ('simple', 0.9970749616622925), ('30', 0.9970016479492188), ('system', 0.9969788789749146), ('create', 0.9969668984413147), ('someone', 0.9969577193260193), ('less', 0.9969541430473328), (';)', 0.9969414472579956), ('use', 0.9969290494918823), ('https://t.c…', 0.9969265460968018)]\n",
      "\n",
      "\n",
      "pdb:\n",
      " [('oracledatabase', 0.9995527863502502), ('12c', 0.9994916319847107), ('cloud', 0.9994568824768066), ('post', 0.9993549585342407), ('features', 0.9993354082107544), ('please', 0.9993219971656799), ('feature', 0.9992351531982422), ('oracle', 0.9992000460624695), ('developers', 0.9991804957389832), ('blog', 0.999099850654602)]\n",
      "\n",
      "\n",
      "office:\n",
      " [('3', 0.9997007846832275), ('customers', 0.9996823072433472), ('life', 0.999650239944458), ('azure', 0.9996484518051147), ('4', 0.9996455907821655), (';', 0.9996297359466553), ('w', 0.9996203780174255), ('meeting', 0.9996175765991211), ('digital', 0.9996142387390137), ('😊', 0.9995971322059631)]\n",
      "\n",
      "\n"
     ]
    },
    {
     "ename": "KeyError",
     "evalue": "\"word 'datastax' not in vocabulary\"",
     "output_type": "error",
     "traceback": [
      "\u001b[0;31m---------------------------------------------------------------------------\u001b[0m",
      "\u001b[0;31mKeyError\u001b[0m                                  Traceback (most recent call last)",
      "\u001b[0;32m<ipython-input-24-fa1f56f5992b>\u001b[0m in \u001b[0;36m<module>\u001b[0;34m()\u001b[0m\n\u001b[1;32m      2\u001b[0m          'azure', 'cassandra', 'pdb', 'office', 'datastax', 'database', 'neo4j']\n\u001b[1;32m      3\u001b[0m \u001b[0;32mfor\u001b[0m \u001b[0mw\u001b[0m \u001b[0;32min\u001b[0m \u001b[0mwords\u001b[0m\u001b[0;34m:\u001b[0m\u001b[0;34m\u001b[0m\u001b[0m\n\u001b[0;32m----> 4\u001b[0;31m     \u001b[0mprint\u001b[0m\u001b[0;34m(\u001b[0m\u001b[0;34m'{}:\\n {}\\n\\n'\u001b[0m\u001b[0;34m.\u001b[0m\u001b[0mformat\u001b[0m\u001b[0;34m(\u001b[0m\u001b[0mw\u001b[0m\u001b[0;34m,\u001b[0m\u001b[0mmodel\u001b[0m\u001b[0;34m.\u001b[0m\u001b[0mmost_similar\u001b[0m\u001b[0;34m(\u001b[0m\u001b[0mw\u001b[0m\u001b[0;34m)\u001b[0m\u001b[0;34m)\u001b[0m\u001b[0;34m)\u001b[0m\u001b[0;34m\u001b[0m\u001b[0m\n\u001b[0m",
      "\u001b[0;32m/home/key/python/anaconda2/envs/p35/lib/python3.5/site-packages/gensim/models/word2vec.py\u001b[0m in \u001b[0;36mmost_similar\u001b[0;34m(self, positive, negative, topn, restrict_vocab)\u001b[0m\n\u001b[1;32m   1199\u001b[0m                 \u001b[0mall_words\u001b[0m\u001b[0;34m.\u001b[0m\u001b[0madd\u001b[0m\u001b[0;34m(\u001b[0m\u001b[0mself\u001b[0m\u001b[0;34m.\u001b[0m\u001b[0mvocab\u001b[0m\u001b[0;34m[\u001b[0m\u001b[0mword\u001b[0m\u001b[0;34m]\u001b[0m\u001b[0;34m.\u001b[0m\u001b[0mindex\u001b[0m\u001b[0;34m)\u001b[0m\u001b[0;34m\u001b[0m\u001b[0m\n\u001b[1;32m   1200\u001b[0m             \u001b[0;32melse\u001b[0m\u001b[0;34m:\u001b[0m\u001b[0;34m\u001b[0m\u001b[0m\n\u001b[0;32m-> 1201\u001b[0;31m                 \u001b[0;32mraise\u001b[0m \u001b[0mKeyError\u001b[0m\u001b[0;34m(\u001b[0m\u001b[0;34m\"word '%s' not in vocabulary\"\u001b[0m \u001b[0;34m%\u001b[0m \u001b[0mword\u001b[0m\u001b[0;34m)\u001b[0m\u001b[0;34m\u001b[0m\u001b[0m\n\u001b[0m\u001b[1;32m   1202\u001b[0m         \u001b[0;32mif\u001b[0m \u001b[0;32mnot\u001b[0m \u001b[0mmean\u001b[0m\u001b[0;34m:\u001b[0m\u001b[0;34m\u001b[0m\u001b[0m\n\u001b[1;32m   1203\u001b[0m             \u001b[0;32mraise\u001b[0m \u001b[0mValueError\u001b[0m\u001b[0;34m(\u001b[0m\u001b[0;34m\"cannot compute similarity with no input\"\u001b[0m\u001b[0;34m)\u001b[0m\u001b[0;34m\u001b[0m\u001b[0m\n",
      "\u001b[0;31mKeyError\u001b[0m: \"word 'datastax' not in vocabulary\""
     ]
    }
   ],
   "source": [
    "words = ['oracle', 'talend', 'microsoft', 'cloud', 'bigdata', 'machinelearning', 'deeplearning', 'iot', \n",
    "         'azure', 'cassandra', 'pdb', 'office', 'datastax', 'database', 'neo4j']\n",
    "for w in words:\n",
    "    print('{}:\\n {}\\n\\n'.format(w,model.most_similar(w)))"
   ]
  },
  {
   "cell_type": "code",
   "execution_count": 25,
   "metadata": {
    "collapsed": false
   },
   "outputs": [
    {
     "data": {
      "image/png": "[encoded data removed]",
      "text/plain": [
       "<matplotlib.figure.Figure at 0x7ff2fee46940>"
      ]
     },
     "metadata": {},
     "output_type": "display_data"
    }
   ],
   "source": [
    "from sklearn.manifold import TSNE\n",
    "from sklearn.decomposition import PCA\n",
    "vectors = model.syn0\n",
    "\n",
    "pca = PCA(n_components=2)\n",
    "pca_2d = pca.fit_transform(vectors)\n",
    "\n",
    "\n",
    "#tsne = TSNE(n_components=2, random_state=0, verbose=10, init='pca')\n",
    "#tsne_2d = tsne.fit_transform(vectors)\n",
    "\n",
    "\n",
    "first = True\n",
    "\n",
    "#for name, transform in zip(['PCA', 'TSNE'], [pca_2d, tsne_2d]):  \n",
    "for name, transform in zip(['PCA'], [pca_2d]):   \n",
    "    plt.figure(figsize=(6,6))\n",
    "    for point, word in zip(transform , words):\n",
    "        plt.scatter(point[0], point[1], c='r' if first else 'g')\n",
    "        plt.annotate(\n",
    "            word, \n",
    "            xy = (point[0], point[1]),\n",
    "            xytext = (-7, -6) if first else (7, -6),\n",
    "            textcoords = 'offset points',\n",
    "            ha = 'right' if first else 'left',\n",
    "            va = 'bottom',\n",
    "            size = \"medium\"\n",
    "            )\n",
    "        first = not first \n",
    "    plt.title(name)\n",
    "    plt.tight_layout()\n",
    "plt.show()"
   ]
  },
  {
   "cell_type": "code",
   "execution_count": 28,
   "metadata": {
    "collapsed": false
   },
   "outputs": [
    {
     "data": {
      "text/plain": [
       "[('iot', 0.9995517730712891),\n",
       " ('bigdata', 0.9995294809341431),\n",
       " ('data', 0.9994615316390991),\n",
       " ('business', 0.9994568824768066),\n",
       " ('using', 0.9994338750839233),\n",
       " ('talend', 0.9994000196456909),\n",
       " ('every', 0.9993994832038879),\n",
       " ('analytics', 0.9993941783905029),\n",
       " ('free', 0.9993902444839478),\n",
       " ('future', 0.9993599057197571)]"
      ]
     },
     "execution_count": 28,
     "metadata": {},
     "output_type": "execute_result"
    }
   ],
   "source": [
    "model.most_similar('datascience')"
   ]
  },
  {
   "cell_type": "code",
   "execution_count": 29,
   "metadata": {
    "collapsed": false
   },
   "outputs": [
    {
     "data": {
      "text/plain": [
       "[('little', 0.9970585703849792),\n",
       " ('slides', 0.9970086812973022),\n",
       " ('team', 0.9969937801361084),\n",
       " ('questions', 0.9969896078109741),\n",
       " ('beer', 0.9969820976257324),\n",
       " ('agile', 0.9969778060913086),\n",
       " ('many', 0.9969749450683594),\n",
       " ('use', 0.9969609379768372),\n",
       " ('since', 0.9969261884689331),\n",
       " ('code', 0.9969222545623779)]"
      ]
     },
     "execution_count": 29,
     "metadata": {},
     "output_type": "execute_result"
    }
   ],
   "source": [
    "model.most_similar('deeplearning')"
   ]
  },
  {
   "cell_type": "code",
   "execution_count": null,
   "metadata": {
    "collapsed": true
   },
   "outputs": [],
   "source": []
  }
 ],
 "metadata": {
  "anaconda-cloud": {},
  "kernelspec": {
   "display_name": "Python [conda env:p35]",
   "language": "python",
   "name": "conda-env-p35-py"
  },
  "language_info": {
   "codemirror_mode": {
    "name": "ipython",
    "version": 3
   },
   "file_extension": ".py",
   "mimetype": "text/x-python",
   "name": "python",
   "nbconvert_exporter": "python",
   "pygments_lexer": "ipython3",
   "version": "3.5.2"
  }
 },
 "nbformat": 4,
 "nbformat_minor": 1
}
