{
 "cells": [
  {
   "cell_type": "markdown",
   "metadata": {},
   "source": [
    "# word2vec"
   ]
  },
  {
   "cell_type": "code",
   "execution_count": 7,
   "metadata": {
    "collapsed": false
   },
   "outputs": [],
   "source": [
    "import pandas as pd \n",
    "import numpy as np\n",
    "import matplotlib.pyplot as plt\n",
    "\n",
    "from gensim.models import word2vec\n",
    "import config\n",
    "from ast import literal_eval\n",
    "import re\n",
    "from nltk.corpus import stopwords\n",
    "pd.set_option('display.max_colwidth', 100)"
   ]
  },
  {
   "cell_type": "code",
   "execution_count": 25,
   "metadata": {
    "collapsed": false
   },
   "outputs": [
    {
     "data": {
      "text/plain": [
       "'/home/key/code/python/twitter_topics/data/twitter/tweets/trivadis/2016-11_english.csv'"
      ]
     },
     "execution_count": 25,
     "metadata": {},
     "output_type": "execute_result"
    }
   ],
   "source": [
    "target = config.target_user\n",
    "target_month = config.target_month\n",
    "source_dir = \"{}/data/twitter/tweets/{}\".format(config.dir_prefix, target)\n",
    "english_file = '/'.join([source_dir, target_month  + '_english.csv'])\n",
    "english_file"
   ]
  },
  {
   "cell_type": "code",
   "execution_count": 9,
   "metadata": {
    "collapsed": false
   },
   "outputs": [
    {
     "data": {
      "text/plain": [
       "0    alphahelixsmc it appears that apple is still considering a foldable iphone would you use it http...\n",
       "1    alphahelixsmc it appears that apple is still considering a foldable iphone would you use it http...\n",
       "2                             dsgersten learn more about vfiorg and csecoalition https://t.co/lehzvz0vzj\n",
       "3    windows 10 deployment tools techniques and processes the must-know concepts for it professionals...\n",
       "4    vcpkg updates static linking is now available one month ago we announced the availability of vcp...\n",
       "5    iamcporg make sure to sign up for the webinar 3 superpowers of p2p the practice the profits and ...\n",
       "6    justinslagle so many of my microsoft partners have been waiting for this microsoftteams has arri...\n",
       "7    smbinsiderjoe us smb marketing events lead davidcu206 on the latest episode of offpremwithterry ...\n",
       "8     jon_rivers microsoft launches teams to take on slack https://t.co/nvfxbtgxge teams microsoft iamcp\n",
       "9    iamcptpa join the iamcp tampa chapter meeting on 11/09 as we will be talking about cyber hygiene...\n",
       "Name: text_wo_#@, dtype: object"
      ]
     },
     "execution_count": 9,
     "metadata": {},
     "output_type": "execute_result"
    }
   ],
   "source": [
    "tweets_english = pd.read_csv(english_file, encoding='utf-8', \n",
    "                              usecols = ['id_str', 'user_id', 'created_at', 'lang', 'text', 'favorite_count', 'entities',\n",
    "                                         'in_reply_to_screen_name', 'in_reply_to_status_id_str', 'in_reply_to_user_id',\n",
    "                                         'retweet_count', 'quoted_status_id_str', 'text_tokenized', 'text_processed'],\n",
    "                              converters={\"text_tokenized\": literal_eval, \"text_processed\": literal_eval})\n",
    "\n",
    "def remove_hash(wordlist):\n",
    "    return(list(map(lambda x: re.sub(r'^#','',x), wordlist)))\n",
    "\n",
    "def remove_at(wordlist):\n",
    "    return(list(map(lambda x: re.sub(r'^@','',x), wordlist)))\n",
    "\n",
    "tweets_english['text_processed'] = tweets_english['text_processed'].apply(lambda x: list(map(lambda s: s.lower(),x)))\n",
    "tweets_english['text_wo_#'] = tweets_english['text_processed'].apply(lambda x: remove_hash(x))\n",
    "tweets_english['text_wo_#@'] = tweets_english['text_wo_#'].apply(lambda x: remove_at(x))\n",
    "\n",
    "X_train_en = tweets_english['text_wo_#@'].apply(lambda x: ' '.join(x))\n",
    "X_train_en[:10]"
   ]
  },
  {
   "cell_type": "markdown",
   "metadata": {},
   "source": [
    "#### Try both with and without stop word removal "
   ]
  },
  {
   "cell_type": "code",
   "execution_count": 10,
   "metadata": {
    "collapsed": false
   },
   "outputs": [],
   "source": [
    "stopwords_nltk = set(stopwords.words(\"english\"))\n",
    "relevant_words = set(['not', 'nor', 'no', 'wasn', 'ain', 'aren', 'very', 'only', 'but', 'don', 'isn', 'weren'])\n",
    "#relevant_words = set()\n",
    "additional_stopwords = set(['us'])\n",
    "stopwords_filtered = list(additional_stopwords.union(stopwords_nltk.difference(relevant_words)))"
   ]
  },
  {
   "cell_type": "code",
   "execution_count": 11,
   "metadata": {
    "collapsed": false
   },
   "outputs": [],
   "source": [
    "sentences = []  \n",
    "for tweet in X_train_en:\n",
    "    words = tweet.split()\n",
    "    sentences += [[word for word in words if word not in stopwords_filtered]]\n",
    "    #sentences += [words]"
   ]
  },
  {
   "cell_type": "code",
   "execution_count": 12,
   "metadata": {
    "collapsed": false
   },
   "outputs": [
    {
     "data": {
      "text/plain": [
       "(2352, 10)"
      ]
     },
     "execution_count": 12,
     "metadata": {},
     "output_type": "execute_result"
    }
   ],
   "source": [
    "len(sentences), len(sentences[0])"
   ]
  },
  {
   "cell_type": "code",
   "execution_count": 13,
   "metadata": {
    "collapsed": true
   },
   "outputs": [],
   "source": [
    "num_features = 100    # Word vector dimensionality                      \n",
    "min_word_count = 1   # Minimum word count                        \n",
    "num_workers = 2       # Number of threads to run in parallel\n",
    "context = 10          # Context window size                                                                                    \n",
    "downsampling = 1e-3   # Downsample setting for frequent words\n",
    "model = word2vec.Word2Vec(sentences, workers=num_workers, size=num_features, min_count = min_word_count,\n",
    "window = context, sample = downsampling)"
   ]
  },
  {
   "cell_type": "code",
   "execution_count": 14,
   "metadata": {
    "collapsed": false
   },
   "outputs": [
    {
     "data": {
      "text/plain": [
       "6759"
      ]
     },
     "execution_count": 14,
     "metadata": {},
     "output_type": "execute_result"
    }
   ],
   "source": [
    "len(model.vocab)"
   ]
  },
  {
   "cell_type": "code",
   "execution_count": 15,
   "metadata": {
    "collapsed": false
   },
   "outputs": [
    {
     "data": {
      "text/plain": [
       "[('not', 0.8817278146743774),\n",
       " ('data', 0.8692392110824585),\n",
       " ('great', 0.8629403114318848),\n",
       " ('but', 0.861784815788269),\n",
       " ('new', 0.8604185581207275),\n",
       " ('business', 0.858803391456604),\n",
       " ('2016', 0.8575323820114136),\n",
       " ('sql', 0.8486918807029724),\n",
       " ('cloud', 0.8484049439430237),\n",
       " ('lukaseder', 0.8475677967071533)]"
      ]
     },
     "execution_count": 15,
     "metadata": {},
     "output_type": "execute_result"
    }
   ],
   "source": [
    "model.most_similar('oracle')"
   ]
  },
  {
   "cell_type": "code",
   "execution_count": 23,
   "metadata": {
    "collapsed": false
   },
   "outputs": [
    {
     "data": {
      "text/plain": [
       "[('racsig', 0.3615770936012268),\n",
       " ('chant', 0.3573278784751892),\n",
       " ('https://t.co/5wpc1el7wv', 0.333243191242218),\n",
       " ('peak', 0.33149340748786926),\n",
       " ('board', 0.327642560005188),\n",
       " ('category5moron', 0.3139312267303467),\n",
       " ('yurikushch', 0.3136376142501831),\n",
       " ('azerbaijan', 0.313535213470459),\n",
       " ('https://t.co/43dg5p9are', 0.3053702712059021),\n",
       " ('baskinrobbins', 0.30496442317962646)]"
      ]
     },
     "execution_count": 23,
     "metadata": {},
     "output_type": "execute_result"
    }
   ],
   "source": [
    "model.most_similar('machinelearning')"
   ]
  },
  {
   "cell_type": "code",
   "execution_count": 24,
   "metadata": {
    "collapsed": false
   },
   "outputs": [
    {
     "data": {
      "text/plain": [
       "[['multinomial',\n",
       "  'regression',\n",
       "  'rstats',\n",
       "  'https://t.co/zr6tptbkil',\n",
       "  'machinelearning',\n",
       "  'datascience'],\n",
       " ['zkajdan',\n",
       "  'multinomial',\n",
       "  'regression',\n",
       "  'rstats',\n",
       "  'https://t.co/zr6tptbkil',\n",
       "  'machinelearning',\n",
       "  'datascience'],\n",
       " ['machinelearning',\n",
       "  'talend',\n",
       "  '101',\n",
       "  'intro',\n",
       "  'decision',\n",
       "  'trees',\n",
       "  'https://t.co/dhnv6e6i06',\n",
       "  'apachespark',\n",
       "  'datascience',\n",
       "  'https://t.co/gz0mmi2ewc'],\n",
       " ['talend',\n",
       "  'machinelearning',\n",
       "  'talend',\n",
       "  '101',\n",
       "  'intro',\n",
       "  'decision',\n",
       "  'trees',\n",
       "  'https://t.co/dhnv6e6i06',\n",
       "  'apachespark',\n",
       "  'datascience',\n",
       "  'https://t.co/…'],\n",
       " ['talend',\n",
       "  'machinelearning',\n",
       "  'talend',\n",
       "  '101',\n",
       "  'intro',\n",
       "  'decision',\n",
       "  'trees',\n",
       "  'https://t.co/dhnv6e6i06',\n",
       "  'apachespark',\n",
       "  'datascience',\n",
       "  'https://t.co/…'],\n",
       " ['talend',\n",
       "  'machinelearning',\n",
       "  'talend',\n",
       "  '101',\n",
       "  'intro',\n",
       "  'decision',\n",
       "  'trees',\n",
       "  'https://t.co/dhnv6e6i06',\n",
       "  'apachespark',\n",
       "  'datascience',\n",
       "  'https://t.co/…'],\n",
       " ['talend',\n",
       "  'machinelearning',\n",
       "  'talend',\n",
       "  '101',\n",
       "  'intro',\n",
       "  'decision',\n",
       "  'trees',\n",
       "  'https://t.co/dhnv6e6i06',\n",
       "  'apachespark',\n",
       "  'datascience',\n",
       "  'https://t.co/…']]"
      ]
     },
     "execution_count": 24,
     "metadata": {},
     "output_type": "execute_result"
    }
   ],
   "source": [
    "[s for s in sentences if 'machinelearning' in s]"
   ]
  },
  {
   "cell_type": "code",
   "execution_count": 28,
   "metadata": {
    "collapsed": false
   },
   "outputs": [
    {
     "name": "stdout",
     "output_type": "stream",
     "text": [
      "[t-SNE] Computing pairwise distances...\n",
      "[t-SNE] Computing 91 nearest neighbors...\n",
      "[t-SNE] Computed conditional probabilities for sample 1000 / 6759\n",
      "[t-SNE] Computed conditional probabilities for sample 2000 / 6759\n",
      "[t-SNE] Computed conditional probabilities for sample 3000 / 6759\n",
      "[t-SNE] Computed conditional probabilities for sample 4000 / 6759\n",
      "[t-SNE] Computed conditional probabilities for sample 5000 / 6759\n",
      "[t-SNE] Computed conditional probabilities for sample 6000 / 6759\n",
      "[t-SNE] Computed conditional probabilities for sample 6759 / 6759\n",
      "[t-SNE] Mean sigma: 0.006968\n",
      "[t-SNE] Iteration 25: error = 1.6562629, gradient norm = 0.0036590\n",
      "[t-SNE] Iteration 50: error = 1.6530443, gradient norm = 0.0027777\n",
      "[t-SNE] Iteration 75: error = 1.6399248, gradient norm = 0.0008617\n",
      "[t-SNE] Iteration 75: gradient norm 0.000862. Finished.\n",
      "[t-SNE] KL divergence after 75 iterations with early exaggeration: 1.639925\n",
      "[t-SNE] Iteration 100: error = 1.6316743, gradient norm = 0.0006695\n",
      "[t-SNE] Iteration 100: gradient norm 0.000669. Finished.\n",
      "[t-SNE] Error after 100 iterations: 1.639925\n"
     ]
    },
    {
     "data": {
      "image/png": "[encoded data removed]",
      "text/plain": [
       "<matplotlib.figure.Figure at 0x7f8a1e330e80>"
      ]
     },
     "metadata": {},
     "output_type": "display_data"
    }
   ],
   "source": [
    "from sklearn.manifold import TSNE\n",
    "from sklearn.decomposition import PCA\n",
    "words = ['oracle', 'talend', 'microsoft', 'cloud', 'bigdata', 'machinelearning']\n",
    "vectors = model.syn0\n",
    "\n",
    "pca = PCA(n_components=2)\n",
    "pca_2d = pca.fit_transform(vectors)\n",
    "\n",
    "\n",
    "tsne = TSNE(n_components=2, random_state=0, verbose=10, init='pca')\n",
    "tsne_2d = tsne.fit_transform(vectors)\n",
    "\n",
    "\n",
    "first = True\n",
    "\n",
    "#for name, transform in zip(['PCA', 'TSNE'], [pca_2d, tsne_2d]):  \n",
    "for name, transform in zip(['PCA'], [pca_2d]):   \n",
    "    plt.figure(figsize=(6,6))\n",
    "    for point, word in zip(transform , words):\n",
    "        plt.scatter(point[0], point[1], c='r' if first else 'g')\n",
    "        plt.annotate(\n",
    "            word, \n",
    "            xy = (point[0], point[1]),\n",
    "            xytext = (-7, -6) if first else (7, -6),\n",
    "            textcoords = 'offset points',\n",
    "            ha = 'right' if first else 'left',\n",
    "            va = 'bottom',\n",
    "            size = \"medium\"\n",
    "            )\n",
    "        first = not first \n",
    "    plt.title(name)\n",
    "    plt.tight_layout()\n",
    "plt.show()"
   ]
  },
  {
   "cell_type": "code",
   "execution_count": null,
   "metadata": {
    "collapsed": true
   },
   "outputs": [],
   "source": []
  }
 ],
 "metadata": {
  "anaconda-cloud": {},
  "kernelspec": {
   "display_name": "Python [conda env:p35]",
   "language": "python",
   "name": "conda-env-p35-py"
  },
  "language_info": {
   "codemirror_mode": {
    "name": "ipython",
    "version": 3
   },
   "file_extension": ".py",
   "mimetype": "text/x-python",
   "name": "python",
   "nbconvert_exporter": "python",
   "pygments_lexer": "ipython3",
   "version": "3.5.2"
  }
 },
 "nbformat": 4,
 "nbformat_minor": 1
}
